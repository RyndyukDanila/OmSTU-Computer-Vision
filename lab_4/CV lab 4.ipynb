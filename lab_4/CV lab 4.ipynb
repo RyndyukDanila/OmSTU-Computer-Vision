{
 "cells": [
  {
   "cell_type": "code",
   "execution_count": null,
   "metadata": {},
   "outputs": [],
   "source": [
    "import numpy as np\n",
    "import matplotlib.pyplot as plt\n",
    "from PIL import Image\n",
    "import cv2\n",
    "from scipy import signal\n",
    "import sys\n",
    "from lucas_kanade import opticalFlow"
   ]
  },
  {
   "cell_type": "code",
   "execution_count": null,
   "metadata": {},
   "outputs": [],
   "source": [
    "camera_id = 0\n",
    "delay = 1\n",
    "window_name = 'frame'\n",
    "\n",
    "cap = cv2.VideoCapture(camera_id)\n",
    "\n",
    "if not cap.isOpened():\n",
    "    sys.exit()\n",
    "\n",
    "images = []\n",
    "while True:\n",
    "    ret, img = cap.read()\n",
    "\n",
    "    images.append(img)\n",
    "\n",
    "    cv2.imshow(window_name, img)\n",
    "\n",
    "    if cv2.waitKey(delay) & 0xFF == ord('q'):\n",
    "        break\n",
    "\n",
    "cv2.destroyWindow(window_name)\n",
    "len(images)"
   ]
  },
  {
   "cell_type": "code",
   "execution_count": null,
   "metadata": {},
   "outputs": [],
   "source": [
    "flow_images = []\n",
    "for i in range(len(images[:10])-1):\n",
    "    flow, *_ = opticalFlow(images[i], images[i+1], 7, 0.95)\n",
    "    flow_images.append(flow)"
   ]
  },
  {
   "cell_type": "code",
   "execution_count": null,
   "metadata": {},
   "outputs": [],
   "source": [
    "import numpy as np\n",
    "from PIL import Image\n",
    "\n",
    "imgs = flow_images\n",
    "imgs = [Image.fromarray(img) for img in imgs]\n",
    "imgs[0].save(\"output.gif\", save_all=True, append_images=imgs[1:], duration=70, loop=0)"
   ]
  }
 ],
 "metadata": {
  "kernelspec": {
   "display_name": "Python 3",
   "language": "python",
   "name": "python3"
  },
  "language_info": {
   "codemirror_mode": {
    "name": "ipython",
    "version": 3
   },
   "file_extension": ".py",
   "mimetype": "text/x-python",
   "name": "python",
   "nbconvert_exporter": "python",
   "pygments_lexer": "ipython3",
   "version": "3.9.0"
  },
  "orig_nbformat": 4
 },
 "nbformat": 4,
 "nbformat_minor": 2
}
